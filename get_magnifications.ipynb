{
 "cells": [
  {
   "cell_type": "code",
   "execution_count": 3,
   "metadata": {},
   "outputs": [
    {
     "name": "stdout",
     "output_type": "stream",
     "text": [
      "52128\n",
      "Level 0: Magnification = Unknown\n"
     ]
    }
   ],
   "source": [
    "import openslide\n",
    "\n",
    "def get_magnifications(slide_path):\n",
    "    # Load the slide\n",
    "    slide = openslide.OpenSlide(slide_path)\n",
    "    \n",
    "    # Get the number of levels in the slide\n",
    "    num_levels = slide.level_count\n",
    "    # Dictionary to store magnifications for each level\n",
    "    magnifications = {}\n",
    "    \n",
    "    # Base magnification (level 0)\n",
    "    base_width, base_height = slide.level_dimensions[0]\n",
    "    base_magnification = slide.properties.get('openslide.magnification', 'Unknown')\n",
    "    \n",
    "    magnifications[0] = base_magnification\n",
    "    \n",
    "    # Calculate magnifications for subsequent levels\n",
    "    for level in range(1, num_levels):\n",
    "        width, height = slide.level_dimensions[level]\n",
    "        # Calculate the downsample factor\n",
    "        downsample_factor = slide.level_downsamples[level]\n",
    "        \n",
    "        # Calculate the magnification based on the downsample factor\n",
    "        level_magnification = float(base_magnification) / downsample_factor if base_magnification != 'Unknown' else 'Unknown'\n",
    "        \n",
    "        magnifications[level] = level_magnification\n",
    "    \n",
    "    slide.close()\n",
    "    \n",
    "    return magnifications\n",
    "\n",
    "# Example usage\n",
    "slide_path = \"/tank/WSI_data/NADT-prostate/HE_files/1022.Prostate.Bx24A.slide.01.HE.tiff\"  # Replace with the path to your .tiff file\n",
    "magnifications = get_magnifications(slide_path)\n",
    "\n",
    "for level, magnification in magnifications.items():\n",
    "    print(f\"Level {level}: Magnification = {magnification}\")\n"
   ]
  },
  {
   "cell_type": "code",
   "execution_count": 4,
   "metadata": {},
   "outputs": [
    {
     "name": "stdout",
     "output_type": "stream",
     "text": [
      "Slide Properties:\n",
      "openslide.comment:  \n",
      "openslide.level-count: 1\n",
      "openslide.level[0].downsample: 1\n",
      "openslide.level[0].height: 70286\n",
      "openslide.level[0].tile-height: 1024\n",
      "openslide.level[0].tile-width: 1024\n",
      "openslide.level[0].width: 52128\n",
      "openslide.vendor: generic-tiff\n",
      "tiff.ImageDescription:  \n",
      "tiff.ResolutionUnit: centimeter\n",
      "tiff.Software: OME Bio-Formats 6.6.0\n",
      "tiff.XResolution: 45424.589999999997\n",
      "tiff.YResolution: 45424.589999999997\n",
      "Level 0: Magnification = Unknown\n"
     ]
    }
   ],
   "source": [
    "import openslide\n",
    "\n",
    "def get_slide_properties(slide_path):\n",
    "    # Load the slide\n",
    "    slide = openslide.OpenSlide(slide_path)\n",
    "    \n",
    "    # Print all properties\n",
    "    properties = slide.properties\n",
    "    print(\"Slide Properties:\")\n",
    "    for key, value in properties.items():\n",
    "        print(f\"{key}: {value}\")\n",
    "    \n",
    "    # Get the number of levels in the slide\n",
    "    num_levels = slide.level_count\n",
    "    \n",
    "    # Dictionary to store magnifications for each level\n",
    "    magnifications = {}\n",
    "    \n",
    "    # Base magnification (level 0)\n",
    "    base_magnification = slide.properties.get('openslide.magnification', 'Unknown')\n",
    "    magnifications[0] = base_magnification\n",
    "    \n",
    "    # Calculate magnifications for subsequent levels\n",
    "    for level in range(1, num_levels):\n",
    "        downsample_factor = slide.level_downsamples[level]\n",
    "        \n",
    "        # Calculate the magnification based on the downsample factor\n",
    "        level_magnification = float(base_magnification) / downsample_factor if base_magnification != 'Unknown' else 'Unknown'\n",
    "        \n",
    "        magnifications[level] = level_magnification\n",
    "    \n",
    "    slide.close()\n",
    "    \n",
    "    return magnifications\n",
    "\n",
    "# Example usage\n",
    "slide_path = \"/tank/WSI_data/NADT-prostate/HE_files/1022.Prostate.Bx24A.slide.01.HE.tiff\"  # Replace with the path to your .tiff file\n",
    "magnifications = get_slide_properties(slide_path)\n",
    "\n",
    "for level, magnification in magnifications.items():\n",
    "    print(f\"Level {level}: Magnification = {magnification}\")\n"
   ]
  },
  {
   "cell_type": "code",
   "execution_count": null,
   "metadata": {},
   "outputs": [],
   "source": [
    "scanned at 20x so level 0 256 "
   ]
  }
 ],
 "metadata": {
  "kernelspec": {
   "display_name": "clam",
   "language": "python",
   "name": "python3"
  },
  "language_info": {
   "codemirror_mode": {
    "name": "ipython",
    "version": 3
   },
   "file_extension": ".py",
   "mimetype": "text/x-python",
   "name": "python",
   "nbconvert_exporter": "python",
   "pygments_lexer": "ipython3",
   "version": "3.7.7"
  }
 },
 "nbformat": 4,
 "nbformat_minor": 2
}
