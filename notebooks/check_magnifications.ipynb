{
 "cells": [
  {
   "cell_type": "code",
   "execution_count": 1,
   "metadata": {},
   "outputs": [
    {
     "name": "stdout",
     "output_type": "stream",
     "text": [
      "Pixel size (microns per pixel): X = 0.24, Y = 0.24\n"
     ]
    }
   ],
   "source": [
    "import openslide\n",
    "\n",
    "def get_wsi_metadata(wsi_file_path):\n",
    "    \"\"\"\n",
    "    Loads a Whole Slide Image (WSI) file and extracts the pixel size metadata.\n",
    "    \n",
    "    Args:\n",
    "        wsi_file_path (str): The file path to the WSI file.\n",
    "        \n",
    "    Returns:\n",
    "        A tuple containing the pixel size in microns per pixel for the X and Y dimensions.\n",
    "    \"\"\"\n",
    "    with openslide.open_slide(wsi_file_path) as slide:\n",
    "        # Get the pixel size (microns per pixel) in the X and Y dimensions\n",
    "        try:\n",
    "            mpp_x = float(slide.properties[openslide.PROPERTY_NAME_MPP_X])\n",
    "            mpp_y = float(slide.properties[openslide.PROPERTY_NAME_MPP_Y])\n",
    "        except (KeyError, ValueError):\n",
    "            # If the metadata is not available, return None\n",
    "            mpp_x = None\n",
    "            mpp_y = None\n",
    "        \n",
    "        return mpp_x, mpp_y\n",
    "\n",
    "# Example usage\n",
    "wsi_file_path = \"//tank/WSI_data/Ovarian_WSIs/BRCA_blind_test/slides/slide-2023-08-28T17-55-15-R3-S5.mrxs\"\n",
    "mpp_x, mpp_y = get_wsi_metadata(wsi_file_path)\n",
    "\n",
    "if mpp_x is not None and mpp_y is not None:\n",
    "    print(f\"Pixel size (microns per pixel): X = {mpp_x:.2f}, Y = {mpp_y:.2f}\")\n",
    "else:\n",
    "    print(\"Unable to retrieve pixel size metadata.\")"
   ]
  },
  {
   "cell_type": "code",
   "execution_count": 7,
   "metadata": {},
   "outputs": [
    {
     "name": "stdout",
     "output_type": "stream",
     "text": [
      "Pixel size (microns per pixel): X = 0.50, Y = 0.50\n"
     ]
    }
   ],
   "source": [
    "\n",
    "# Example usage\n",
    "wsi_file_path = \"//tank/WSI_data/Ovarian_WSIs/MSK-IMPACT/hne/mskcc/2499641.svs\"\n",
    "mpp_x, mpp_y = get_wsi_metadata(wsi_file_path)\n",
    "\n",
    "if mpp_x is not None and mpp_y is not None:\n",
    "    print(f\"Pixel size (microns per pixel): X = {mpp_x:.2f}, Y = {mpp_y:.2f}\")\n",
    "else:\n",
    "    print(\"Unable to retrieve pixel size metadata.\")"
   ]
  },
  {
   "cell_type": "code",
   "execution_count": 3,
   "metadata": {},
   "outputs": [
    {
     "name": "stdout",
     "output_type": "stream",
     "text": [
      "Pixel size (microns per pixel): X = 0.25, Y = 0.25\n"
     ]
    }
   ],
   "source": [
    "# Example usage\n",
    "wsi_file_path = \"//tank/WSI_data/Ovarian_WSIs/TCGA-OV/FFPE_slides/TCGA-25-1316-01Z-00-DX1.A9B7F47C-5BDC-4B7D-BC9F-C4C9DBA663C8.svs\"\n",
    "mpp_x, mpp_y = get_wsi_metadata(wsi_file_path)\n",
    "\n",
    "if mpp_x is not None and mpp_y is not None:\n",
    "    print(f\"Pixel size (microns per pixel): X = {mpp_x:.2f}, Y = {mpp_y:.2f}\")\n",
    "else:\n",
    "    print(\"Unable to retrieve pixel size metadata.\")"
   ]
  },
  {
   "cell_type": "code",
   "execution_count": 2,
   "metadata": {},
   "outputs": [
    {
     "ename": "NameError",
     "evalue": "name 'get_wsi_metadata' is not defined",
     "output_type": "error",
     "traceback": [
      "\u001b[0;31m---------------------------------------------------------------------------\u001b[0m",
      "\u001b[0;31mNameError\u001b[0m                                 Traceback (most recent call last)",
      "\u001b[0;32m<ipython-input-2-c51a62f0ac1c>\u001b[0m in \u001b[0;36m<module>\u001b[0;34m\u001b[0m\n\u001b[1;32m      1\u001b[0m \u001b[0mwsi_file_path\u001b[0m \u001b[0;34m=\u001b[0m \u001b[0;34m\"//tank/WSI_data/Ovarian_WSIs/BRCA_blind_test/slides/slide-2023-08-28T17-55-15-R3-S5.mrxs\"\u001b[0m\u001b[0;34m\u001b[0m\u001b[0;34m\u001b[0m\u001b[0m\n\u001b[0;32m----> 2\u001b[0;31m \u001b[0mmpp_x\u001b[0m\u001b[0;34m,\u001b[0m \u001b[0mmpp_y\u001b[0m \u001b[0;34m=\u001b[0m \u001b[0mget_wsi_metadata\u001b[0m\u001b[0;34m(\u001b[0m\u001b[0mwsi_file_path\u001b[0m\u001b[0;34m)\u001b[0m\u001b[0;34m\u001b[0m\u001b[0;34m\u001b[0m\u001b[0m\n\u001b[0m\u001b[1;32m      3\u001b[0m \u001b[0;34m\u001b[0m\u001b[0m\n\u001b[1;32m      4\u001b[0m \u001b[0;32mif\u001b[0m \u001b[0mmpp_x\u001b[0m \u001b[0;32mis\u001b[0m \u001b[0;32mnot\u001b[0m \u001b[0;32mNone\u001b[0m \u001b[0;32mand\u001b[0m \u001b[0mmpp_y\u001b[0m \u001b[0;32mis\u001b[0m \u001b[0;32mnot\u001b[0m \u001b[0;32mNone\u001b[0m\u001b[0;34m:\u001b[0m\u001b[0;34m\u001b[0m\u001b[0;34m\u001b[0m\u001b[0m\n\u001b[1;32m      5\u001b[0m     \u001b[0mprint\u001b[0m\u001b[0;34m(\u001b[0m\u001b[0;34mf\"Pixel size (microns per pixel): X = {mpp_x:.2f}, Y = {mpp_y:.2f}\"\u001b[0m\u001b[0;34m)\u001b[0m\u001b[0;34m\u001b[0m\u001b[0;34m\u001b[0m\u001b[0m\n",
      "\u001b[0;31mNameError\u001b[0m: name 'get_wsi_metadata' is not defined"
     ]
    }
   ],
   "source": [
    "wsi_file_path = \"//tank/WSI_data/Ovarian_WSIs/BRCA_blind_test/slides/slide-2023-08-28T17-55-15-R3-S5.mrxs\"\n",
    "mpp_x, mpp_y = get_wsi_metadata(wsi_file_path)\n",
    "\n",
    "if mpp_x is not None and mpp_y is not None:\n",
    "    print(f\"Pixel size (microns per pixel): X = {mpp_x:.2f}, Y = {mpp_y:.2f}\")\n",
    "else:\n",
    "    print(\"Unable to retrieve pixel size metadata.\")\n"
   ]
  },
  {
   "cell_type": "code",
   "execution_count": 4,
   "metadata": {},
   "outputs": [
    {
     "name": "stdout",
     "output_type": "stream",
     "text": [
      "Objective Power: 20x\n",
      "Microns per Pixel (x): 0.242797397769517 μm\n",
      "Microns per Pixel (y): 0.242797397769517 μm\n"
     ]
    }
   ],
   "source": [
    "import openslide\n",
    "\n",
    "def get_slide_metadata(wsi_path):\n",
    "    try:\n",
    "        # Open the whole-slide image\n",
    "        wsi = openslide.OpenSlide(wsi_path)\n",
    "        \n",
    "        # Get objective power\n",
    "        objective_power = wsi.properties.get(\"openslide.objective-power\")\n",
    "        \n",
    "        # Get microns per pixel (mpp) values in x and y directions\n",
    "        mpp_x = wsi.properties.get(\"openslide.mpp-x\")\n",
    "        mpp_y = wsi.properties.get(\"openslide.mpp-y\")\n",
    "        \n",
    "        # Print objective power and mpp values\n",
    "        print(f\"Objective Power: {objective_power}x\" if objective_power else \"Objective Power: Not available\")\n",
    "        print(f\"Microns per Pixel (x): {mpp_x} μm\" if mpp_x else \"Microns per Pixel (x): Not available\")\n",
    "        print(f\"Microns per Pixel (y): {mpp_y} μm\" if mpp_y else \"Microns per Pixel (y): Not available\")\n",
    "        \n",
    "        # Return metadata as a dictionary\n",
    "        return {\"objective_power\": objective_power, \"mpp_x\": mpp_x, \"mpp_y\": mpp_y}\n",
    "    except openslide.OpenSlideError as e:\n",
    "        print(f\"Error opening slide: {e}\")\n",
    "        return None\n",
    "\n",
    "# Example usage\n",
    "wsi_path = '/tank/WSI_data/Ovarian_WSIs/BRCA_blind_test/slides/slide-2023-08-28T17-55-15-R3-S5.mrxs'  # Replace with your WSI file path\n",
    "metadata = get_slide_metadata(wsi_path)\n",
    "\n",
    "says to x but micron per might look like 40x...."
   ]
  },
  {
   "cell_type": "code",
   "execution_count": 7,
   "metadata": {},
   "outputs": [
    {
     "name": "stdout",
     "output_type": "stream",
     "text": [
      "Objective Power: 20x\n",
      "Microns per Pixel (x): 0.50209999999999999 μm\n",
      "Microns per Pixel (y): 0.50209999999999999 μm\n"
     ]
    }
   ],
   "source": [
    "# Example usage\n",
    "wsi_path = '/tank/WSI_data/Ovarian_WSIs/MSK-IMPACT/hne/mskcc/2499641.svs'  # Replace with your WSI file path\n",
    "metadata = get_slide_metadata(wsi_path)"
   ]
  },
  {
   "cell_type": "code",
   "execution_count": 8,
   "metadata": {},
   "outputs": [
    {
     "data": {
      "image/png": "[encoded data removed]",
      "text/plain": [
       "<Figure size 576x432 with 1 Axes>"
      ]
     },
     "metadata": {
      "needs_background": "light"
     },
     "output_type": "display_data"
    }
   ],
   "source": [
    "import openslide\n",
    "import os\n",
    "import matplotlib.pyplot as plt\n",
    "\n",
    "def get_slide_metadata(wsi_path):\n",
    "    try:\n",
    "        wsi = openslide.OpenSlide(wsi_path)\n",
    "        objective_power = wsi.properties.get(\"openslide.objective-power\")\n",
    "        mpp_x = wsi.properties.get(\"openslide.mpp-x\")\n",
    "        \n",
    "        # Convert mpp_x to float if it's available\n",
    "        if mpp_x is not None:\n",
    "            mpp_x = float(mpp_x)\n",
    "        \n",
    "        return objective_power, mpp_x\n",
    "    except openslide.OpenSlideError as e:\n",
    "        print(f\"Error opening slide {wsi_path}: {e}\")\n",
    "        return None, None\n",
    "\n",
    "def plot_objective_vs_mpp(directory_path):\n",
    "    objective_powers = []\n",
    "    mpp_values = []\n",
    "    \n",
    "    # Loop through all slides in the directory\n",
    "    for filename in os.listdir(directory_path):\n",
    "        if filename.endswith(\".svs\") or filename.endswith(\".tiff\"):  # Adjust file extensions as needed\n",
    "            slide_path = os.path.join(directory_path, filename)\n",
    "            objective_power, mpp_x = get_slide_metadata(slide_path)\n",
    "            \n",
    "            # Check if both values were successfully retrieved\n",
    "            if objective_power and mpp_x:\n",
    "                try:\n",
    "                    # Append values to lists\n",
    "                    objective_powers.append(int(objective_power))\n",
    "                    mpp_values.append(mpp_x)\n",
    "                except ValueError:\n",
    "                    print(f\"Non-numeric objective power or mpp_x for {filename}\")\n",
    "    \n",
    "    # Plotting\n",
    "    plt.figure(figsize=(8, 6))\n",
    "    plt.scatter(objective_powers, mpp_values, c='blue', alpha=0.6, edgecolors='k')\n",
    "    plt.xlabel(\"Objective Power (x)\")\n",
    "    plt.ylabel(\"Microns per Pixel (x)\")\n",
    "    plt.title(\"Objective Power vs Microns per Pixel (x)\")\n",
    "    plt.grid(True)\n",
    "    plt.show()\n",
    "\n",
    "# Example usage\n",
    "directory_path = '/tank/WSI_data/Ovarian_WSIs/MSK-IMPACT/hne/mskcc/'  # Replace with your directory path\n",
    "plot_objective_vs_mpp(directory_path)"
   ]
  },
  {
   "cell_type": "code",
   "execution_count": null,
   "metadata": {},
   "outputs": [],
   "source": []
  }
 ],
 "metadata": {
  "kernelspec": {
   "display_name": "clam",
   "language": "python",
   "name": "python3"
  },
  "language_info": {
   "codemirror_mode": {
    "name": "ipython",
    "version": 3
   },
   "file_extension": ".py",
   "mimetype": "text/x-python",
   "name": "python",
   "nbconvert_exporter": "python",
   "pygments_lexer": "ipython3",
   "version": "3.7.7"
  }
 },
 "nbformat": 4,
 "nbformat_minor": 2
}
